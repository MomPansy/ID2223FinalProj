{
 "cells": [
  {
   "cell_type": "code",
   "execution_count": 7,
   "metadata": {},
   "outputs": [],
   "source": [
    "import hopsworks\n",
    "import pandas as pd\n",
    "from sklearn.model_selection import train_test_split\n",
    "from sklearn.metrics import accuracy_score\n",
    "from sklearn.metrics import classification_report\n",
    "from imblearn.over_sampling import SMOTE\n",
    "from hsml.schema import Schema\n",
    "from hsml.model_schema import ModelSchema\n",
    "import joblib\n",
    "import os\n",
    "import torch\n",
    "import seaborn as sns\n",
    "import numpy as np"
   ]
  },
  {
   "cell_type": "code",
   "execution_count": 8,
   "metadata": {},
   "outputs": [
    {
     "name": "stdout",
     "output_type": "stream",
     "text": [
      "Connected. Call `.close()` to terminate connection gracefully.\n",
      "\n",
      "Logged in to project, explore it here https://c.app.hopsworks.ai:443/p/221335\n",
      "Connected. Call `.close()` to terminate connection gracefully.\n"
     ]
    }
   ],
   "source": [
    "project = hopsworks.login()\n",
    "fs = project.get_feature_store()"
   ]
  },
  {
   "cell_type": "code",
   "execution_count": null,
   "metadata": {},
   "outputs": [],
   "source": [
    "# create feature view \n",
    "fg = fs.get_feature_group(name = 'finalproj', version=1)\n",
    "query = fg.select(['statement', 'label'])\n",
    "\n",
    "def preprocess_df(label: str) -> str:\n",
    "    replacements = {\n",
    "        'true': 0,\n",
    "        'mostly-true': 2,\n",
    "        'half-true': 2,\n",
    "        'false': 1,\n",
    "        'pants-fire': 1,\n",
    "        'barely-true': 1,\n",
    "        'full-flop': 1\n",
    "    }\n",
    "\n",
    "    return replacements.get(label, label)  \n",
    "\n",
    "tokenizer = BertTokenizer.from_pretrained('bert-base-uncased')\n",
    "\n",
    "def tokenize_bert(data):\n",
    "    return tokenizer.encode_plus(\n",
    "        data,\n",
    "        add_special_tokens=True,  # Add '[CLS]' and '[SEP]'\n",
    "        max_length=512,          # Pad & truncate all sentences.\n",
    "        padding='max_length',\n",
    "        truncation=True,\n",
    "        return_attention_mask=True, # Return attention mask\n",
    "        return_tensors='pt'     # Return PyTorch tensors\n",
    "    )\n",
    "\n",
    "'''There's something wrong with the code, getting this error:\n",
    "AttributeError: module '__main__' has no attribute '__file__' \n",
    "'''\n",
    "# transformation_function_create = fs.create_transformation_function(\n",
    "#             transformation_function=preprocess_df,\n",
    "#             output_type=str,\n",
    "#             version=1\n",
    "#             )\n",
    "\n",
    "# transformation_function_create.save()\n",
    "\n",
    "'''output type does not support pytorch tensor'''\n",
    "# transformation_function_create = fs.create_transformation_function(\n",
    "#             transformation_function=tokenizer_bert,\n",
    "#             output_type=Tensor,\n",
    "#             version=1\n",
    "#             )\n",
    "\n",
    "# transformation_function_create.save()\n",
    "\n",
    "# fs.register_builtin_transformation_functions()\n",
    "\n",
    "# encoding = fs.get_transformation_function(name=\"preprocess_df\",version= 1)\n",
    "# tokenizer = fs.get_transformation_function(name=\"tokenize_bert\",version= 1)\n",
    "# transformation_function = {'statement': tokenizer, 'label': encoding}\n",
    "\n",
    "fv = fs.create_feature_view(\n",
    "    name = 'base_model_features',\n",
    "    query = query,\n",
    "    version = 2, \n",
    "    labels =['label'],\n",
    ")\n"
   ]
  },
  {
   "cell_type": "code",
   "execution_count": 40,
   "metadata": {},
   "outputs": [
    {
     "data": {
      "text/plain": [
       "<hsfs.feature_view.FeatureView at 0x2a55143d0>"
      ]
     },
     "execution_count": 40,
     "metadata": {},
     "output_type": "execute_result"
    }
   ],
   "source": [
    "# model_features = fs.get_feature_view(name='base_model_features', version = 1)\n",
    "# model_features"
   ]
  },
  {
   "cell_type": "code",
   "execution_count": 41,
   "metadata": {},
   "outputs": [
    {
     "name": "stderr",
     "output_type": "stream",
     "text": [
      "DeprecationWarning: ssl.PROTOCOL_TLS is deprecated\n"
     ]
    },
    {
     "name": "stdout",
     "output_type": "stream",
     "text": [
      "Finished: Reading data from Hopsworks, using Hive (1.82s) \n"
     ]
    },
    {
     "name": "stderr",
     "output_type": "stream",
     "text": [
      "VersionWarning: Incremented version to `6`.\n"
     ]
    }
   ],
   "source": [
    "# X_train, X_test, y_train, y_test = model_features.train_test_split(test_size = 0.2)"
   ]
  },
  {
   "cell_type": "code",
   "execution_count": 9,
   "metadata": {},
   "outputs": [
    {
     "name": "stdout",
     "output_type": "stream",
     "text": [
      "Finished: Reading data from Hopsworks, using ArrowFlight (1.08s) \n"
     ]
    }
   ],
   "source": [
    "fg = fs.get_feature_group(name = 'finalproj', version=1)\n",
    "query = fg.select(['statement', 'label']).read()"
   ]
  },
  {
   "cell_type": "code",
   "execution_count": 10,
   "metadata": {},
   "outputs": [
    {
     "data": {
      "text/plain": [
       "False"
      ]
     },
     "execution_count": 10,
     "metadata": {},
     "output_type": "execute_result"
    }
   ],
   "source": [
    "query.isnull().values.any()"
   ]
  },
  {
   "cell_type": "code",
   "execution_count": 11,
   "metadata": {},
   "outputs": [
    {
     "data": {
      "text/plain": [
       "0      1\n",
       "1      1\n",
       "2      1\n",
       "3      1\n",
       "4      2\n",
       "      ..\n",
       "595    1\n",
       "596    1\n",
       "597    1\n",
       "598    1\n",
       "599    1\n",
       "Name: label, Length: 600, dtype: int64"
      ]
     },
     "execution_count": 11,
     "metadata": {},
     "output_type": "execute_result"
    }
   ],
   "source": [
    "# Encode labels\n",
    "def encode_label(label: str):\n",
    "    replacements = {\n",
    "        'true': 0,\n",
    "        'mostly-true': 2,\n",
    "        'half-true': 2,\n",
    "        'false': 1,\n",
    "        'pants-fire': 1,\n",
    "        'barely-true': 1,\n",
    "        'full-flop': 1\n",
    "    }\n",
    "    return replacements.get(label, label)\n",
    "\n",
    "query['label'] = query['label'].apply(encode_label)\n",
    "query['label']"
   ]
  },
  {
   "cell_type": "code",
   "execution_count": 12,
   "metadata": {},
   "outputs": [
    {
     "name": "stdout",
     "output_type": "stream",
     "text": [
      "2024-01-04 01:29:47,959 INFO: Using categorical units to plot a list of strings that are all parsable as floats or dates. If these strings should be plotted as numbers, cast to the appropriate data type before plotting.\n",
      "2024-01-04 01:29:47,964 INFO: Using categorical units to plot a list of strings that are all parsable as floats or dates. If these strings should be plotted as numbers, cast to the appropriate data type before plotting.\n"
     ]
    },
    {
     "data": {
      "text/plain": [
       "<Axes: xlabel='label', ylabel='count'>"
      ]
     },
     "execution_count": 12,
     "metadata": {},
     "output_type": "execute_result"
    },
    {
     "data": {
      "image/png": "[encoded data removed]",
      "text/plain": [
       "<Figure size 640x480 with 1 Axes>"
      ]
     },
     "metadata": {},
     "output_type": "display_data"
    }
   ],
   "source": [
    "# Skewed distribution: need to address this\n",
    "sns.countplot(x='label', data = query)"
   ]
  },
  {
   "cell_type": "code",
   "execution_count": 13,
   "metadata": {},
   "outputs": [
    {
     "data": {
      "text/plain": [
       "0      “Israeli Army Commander admits they handcuffed...\n",
       "1      Macaulay Culkin’s “Home Alone” shopping trip t...\n",
       "2      Video muestra “Palestinos cargando el cuerpo d...\n",
       "3      \"Los pasajeros de un avión cantan para ayudar ...\n",
       "4      Gov. Tony Evers and Democrats \"rejected our (I...\n",
       "                             ...                        \n",
       "595    “Haaretz investigation reveals discrepancies i...\n",
       "596    These 13 books “have been banned from schools ...\n",
       "597    Ohio’s Issue 1 “allows for abortion after viab...\n",
       "598    “Navy SEALs Save Missing Maui Children” who we...\n",
       "599                 U.S. Rep. Nancy Pelosi was arrested.\n",
       "Name: statement, Length: 600, dtype: object"
      ]
     },
     "execution_count": 13,
     "metadata": {},
     "output_type": "execute_result"
    }
   ],
   "source": [
    "query['statement']"
   ]
  },
  {
   "cell_type": "code",
   "execution_count": 15,
   "metadata": {},
   "outputs": [
    {
     "name": "stderr",
     "output_type": "stream",
     "text": [
      "[nltk_data] Downloading package stopwords to\n",
      "[nltk_data]     /Users/jayden/nltk_data...\n",
      "[nltk_data]   Package stopwords is already up-to-date!\n"
     ]
    }
   ],
   "source": [
    "# Remove punctuations \n",
    "import re\n",
    "import nltk\n",
    "from nltk.corpus import stopwords\n",
    "\n",
    "nltk.download('stopwords')\n",
    "\n",
    "def process_text(sen):\n",
    "    '''Cleans text data up, leaving only 2 or more char long non-stopwords composed of A-Z \n",
    "    and a-z only'''\n",
    "    sentence = sen.lower()\n",
    "    sentence = re.sub('[^a-zA-Z]', ' ', sentence)\n",
    "    sentence = re.sub(r'\\b[a-zA-Z]\\b', '', sentence)  # Improved single-character word removal\n",
    "    sentence = re.sub(r'\\s+', ' ', sentence)\n",
    "    pattern = re.compile(r'\\b(' + r'|'.join(stopwords.words('english')) + r')\\b\\s*')\n",
    "    sentence = pattern.sub('', sentence)\n",
    "    return sentence.strip()  # Strip to remove any leading or trailing whitespace\n",
    "\n",
    "# Assuming 'query' is a DataFrame and 'statement' is a column in it\n",
    "query['statement'] = query['statement'].apply(process_text)"
   ]
  },
  {
   "cell_type": "code",
   "execution_count": 16,
   "metadata": {},
   "outputs": [
    {
     "data": {
      "text/plain": [
       "0      israeli army commander admits handcuffed coupl...\n",
       "1      macaulay culkin home alone shopping trip cost ...\n",
       "2      video muestra palestinos cargando el cuerpo de...\n",
       "3      los pasajeros de un avi cantan para ayudar cal...\n",
       "4      gov tony evers democrats rejected iowa model r...\n",
       "                             ...                        \n",
       "595    haaretz investigation reveals discrepancies is...\n",
       "596                         books banned schools florida\n",
       "597    ohio issue allows abortion viability financial...\n",
       "598    navy seals save missing maui children padlocke...\n",
       "599                            rep nancy pelosi arrested\n",
       "Name: statement, Length: 600, dtype: object"
      ]
     },
     "execution_count": 16,
     "metadata": {},
     "output_type": "execute_result"
    }
   ],
   "source": [
    "query['statement']"
   ]
  },
  {
   "cell_type": "code",
   "execution_count": 17,
   "metadata": {},
   "outputs": [],
   "source": [
    "from sklearn.model_selection import train_test_split\n",
    "X_train, X_test, y_train, y_test = train_test_split(query['statement'], query['label'], test_size=0.2)"
   ]
  },
  {
   "cell_type": "code",
   "execution_count": 29,
   "metadata": {},
   "outputs": [
    {
     "name": "stderr",
     "output_type": "stream",
     "text": [
      "[nltk_data] Downloading package punkt to /Users/jayden/nltk_data...\n",
      "[nltk_data]   Package punkt is already up-to-date!\n"
     ]
    }
   ],
   "source": [
    "import nltk\n",
    "from nltk.tokenize import word_tokenize\n",
    "\n",
    "nltk.download('punkt')\n",
    "\n",
    "# Tokenize all text data\n",
    "def tokenize_text(text):\n",
    "    return word_tokenize(text)\n",
    "\n",
    "X_train_tokenized = X_train.apply(tokenize_text)\n",
    "X_test_tokenized = X_test.apply(tokenize_text)"
   ]
  },
  {
   "cell_type": "code",
   "execution_count": 55,
   "metadata": {},
   "outputs": [
    {
     "name": "stdout",
     "output_type": "stream",
     "text": [
      "Vocabulary Size: 2355\n"
     ]
    }
   ],
   "source": [
    "all_tokens = []\n",
    "for tokens_list in X_train_tokenized:  \n",
    "    all_tokens.extend(tokens_list)\n",
    "\n",
    "vocab = set(all_tokens)\n",
    "vocab_size = len(vocab) + 1\n",
    "\n",
    "print(\"Vocabulary Size:\", vocab_size)\n",
    "\n",
    "word_to_index = {word: i+2 for i, word in enumerate(vocab)}\n",
    "word_to_index['<PAD>'] = 0  # Padding\n",
    "word_to_index['<UNK>'] = 1  # Unknown words\n"
   ]
  },
  {
   "cell_type": "code",
   "execution_count": 56,
   "metadata": {},
   "outputs": [],
   "source": [
    "def tokens_to_indices(tokenized_text, word_to_index):\n",
    "    return [word_to_index.get(word, word_to_index['<UNK>']) for word in tokenized_text]\n",
    "\n",
    "X_train_indices = X_train_tokenized.apply(lambda x: tokens_to_indices(x, word_to_index))\n",
    "X_test_indices = X_test_tokenized.apply(lambda x: tokens_to_indices(x, word_to_index))\n"
   ]
  },
  {
   "cell_type": "code",
   "execution_count": 59,
   "metadata": {},
   "outputs": [
    {
     "data": {
      "text/plain": [
       "[639, 1503, 386, 1191, 569, 1543, 1611, 1454, 1294, 1312, 2013, 834]"
      ]
     },
     "execution_count": 59,
     "metadata": {},
     "output_type": "execute_result"
    }
   ],
   "source": [
    "X_train_indices[0]\n"
   ]
  },
  {
   "cell_type": "code",
   "execution_count": 60,
   "metadata": {},
   "outputs": [],
   "source": [
    "max_len = 100  # Or any other length suitable for your data\n",
    "\n",
    "def pad_sequences(sequences, maxlen):\n",
    "    return [seq[:maxlen] + [0]*(maxlen - len(seq)) if len(seq) < maxlen else seq[:maxlen] for seq in sequences]\n",
    "\n",
    "X_train_padded = pad_sequences(X_train_indices, max_len)\n",
    "X_test_padded = pad_sequences(X_test_indices, max_len)\n"
   ]
  },
  {
   "cell_type": "code",
   "execution_count": 63,
   "metadata": {},
   "outputs": [
    {
     "data": {
      "text/plain": [
       "100"
      ]
     },
     "execution_count": 63,
     "metadata": {},
     "output_type": "execute_result"
    }
   ],
   "source": [
    "len(X_train_padded[0])"
   ]
  },
  {
   "cell_type": "code",
   "execution_count": 136,
   "metadata": {},
   "outputs": [],
   "source": [
    "from imblearn.over_sampling import SMOTE\n",
    "smote = SMOTE(random_state=42)\n",
    "X_train_smote, y_train_smote = smote.fit_resample(X_train_padded, y_train)\n"
   ]
  },
  {
   "cell_type": "code",
   "execution_count": 138,
   "metadata": {},
   "outputs": [
    {
     "name": "stdout",
     "output_type": "stream",
     "text": [
      "2024-01-04 02:43:18,228 INFO: Using categorical units to plot a list of strings that are all parsable as floats or dates. If these strings should be plotted as numbers, cast to the appropriate data type before plotting.\n",
      "2024-01-04 02:43:18,233 INFO: Using categorical units to plot a list of strings that are all parsable as floats or dates. If these strings should be plotted as numbers, cast to the appropriate data type before plotting.\n"
     ]
    },
    {
     "data": {
      "text/plain": [
       "<Axes: xlabel='label', ylabel='count'>"
      ]
     },
     "execution_count": 138,
     "metadata": {},
     "output_type": "execute_result"
    },
    {
     "data": {
      "image/png": "[encoded data removed]",
      "text/plain": [
       "<Figure size 640x480 with 1 Axes>"
      ]
     },
     "metadata": {},
     "output_type": "display_data"
    }
   ],
   "source": [
    "test = pd.DataFrame(y_train_smote)\n",
    "sns.countplot(x = 'label', data = test)"
   ]
  },
  {
   "cell_type": "code",
   "execution_count": 145,
   "metadata": {},
   "outputs": [
    {
     "name": "stdout",
     "output_type": "stream",
     "text": [
      "X_train_tensor shape torch.Size([1260, 100])\n",
      "X_test_tensor shape torch.Size([120, 100])\n",
      "y_train_tensor shape torch.Size([1260])\n",
      "y_test_tensor shape torch.Size([120])\n"
     ]
    }
   ],
   "source": [
    "X_train_tensor = torch.tensor(X_train_smote, dtype=torch.long)\n",
    "X_test_tensor = torch.tensor(X_test_padded, dtype=torch.long)\n",
    "y_train_tensor = torch.tensor(y_train_smote.values, dtype=torch.long)\n",
    "y_test_tensor = torch.tensor(y_test.values, dtype = torch.long)\n",
    "\n",
    "print(\"X_train_tensor shape\", X_train_tensor.shape)\n",
    "print(\"X_test_tensor shape\", X_test_tensor.shape)\n",
    "print(\"y_train_tensor shape\", y_train_tensor.shape)\n",
    "print(\"y_test_tensor shape\", y_test_tensor.shape)"
   ]
  },
  {
   "cell_type": "code",
   "execution_count": 146,
   "metadata": {},
   "outputs": [],
   "source": [
    "from torch.utils.data import Dataset, DataLoader\n",
    "import torch\n",
    "\n",
    "class TextDataset(Dataset):\n",
    "    def __init__(self, x_data, y_data):\n",
    "        self.x_data = x_data\n",
    "        self.y_data = y_data\n",
    "\n",
    "    def __len__(self):\n",
    "        return len(self.x_data)\n",
    "\n",
    "    def __getitem__(self, idx):\n",
    "        return self.x_data[idx], self.y_data[idx]\n",
    "# Create the dataset\n",
    "train_dataset = TextDataset(X_train_tensor, y_train_tensor)\n",
    "test_dataset = TextDataset(X_test_tensor, y_test_tensor)\n",
    "\n",
    "# Create the DataLoader\n",
    "batch_size = 32  \n",
    "train_loader = DataLoader(dataset=train_dataset, batch_size=batch_size, shuffle=True)\n",
    "test_loader = DataLoader(dataset=test_dataset, batch_size=batch_size, shuffle=True)\n",
    "\n"
   ]
  },
  {
   "cell_type": "code",
   "execution_count": 147,
   "metadata": {},
   "outputs": [],
   "source": [
    "def load_glove_embeddings(path):\n",
    "    embeddings_dict = {}\n",
    "    with open(path, 'r', encoding='utf8') as file:\n",
    "        for line in file:\n",
    "            values = line.split()\n",
    "            word = values[0]\n",
    "            vector = torch.tensor([float(val) for val in values[1:]], dtype=torch.float32)\n",
    "            embeddings_dict[word] = vector\n",
    "    return embeddings_dict\n",
    "\n",
    "glove_embeddings = load_glove_embeddings('glove.6B.100d.txt')\n",
    "\n",
    "# Determine the embedding dimension from the GloVe embeddings\n",
    "embedding_dim = next(iter(glove_embeddings.values())).size(0)\n",
    "\n",
    "# Initialize an embedding matrix\n",
    "vocab_size = len(vocab) + 2\n",
    "embedding_matrix = torch.zeros(vocab_size, embedding_dim)\n",
    "\n",
    "# Create a word to index mapping for vocabulary\n",
    "word_to_idx = {word: idx for idx, word in enumerate(vocab)}\n",
    "\n",
    "# Populate the embedding matrix\n",
    "for word, idx in word_to_idx.items():\n",
    "    if word in glove_embeddings:\n",
    "        embedding_matrix[idx] = glove_embeddings[word]\n",
    "    else:\n",
    "        # Handle unknown words - here using random vectors\n",
    "        embedding_matrix[idx] = torch.randn(embedding_dim)\n",
    "\n"
   ]
  },
  {
   "cell_type": "code",
   "execution_count": 148,
   "metadata": {},
   "outputs": [
    {
     "data": {
      "text/plain": [
       "torch.Size([2356, 100])"
      ]
     },
     "execution_count": 148,
     "metadata": {},
     "output_type": "execute_result"
    }
   ],
   "source": [
    "embedding_matrix.shape"
   ]
  },
  {
   "cell_type": "code",
   "execution_count": 151,
   "metadata": {},
   "outputs": [],
   "source": [
    "import torch.nn as nn\n",
    "\n",
    "class LSTMClassifier(nn.Module):\n",
    "    def __init__(self, embedding_matrix, hidden_dim, num_layers, num_classes, dropout=0.5):\n",
    "        super(LSTMClassifier, self).__init__()\n",
    "        vocab_size, embed_dim = embedding_matrix.shape\n",
    "\n",
    "        # Embedding layer\n",
    "        self.embedding = nn.Embedding(vocab_size, embed_dim)\n",
    "        self.embedding.weight = nn.Parameter(embedding_matrix)  # Initialize with GloVe\n",
    "        self.embedding.weight.requires_grad = False  # Freeze embeddings\n",
    "\n",
    "        # LSTM layer\n",
    "        self.lstm = nn.LSTM(embed_dim, hidden_dim, num_layers, dropout=dropout, batch_first=True)\n",
    "\n",
    "        # Fully connected layer\n",
    "        self.fc = nn.Linear(hidden_dim, num_classes)\n",
    "\n",
    "    def forward(self, x):\n",
    "        x = self.embedding(x)\n",
    "        lstm_out, _ = self.lstm(x)\n",
    "        x = lstm_out[:, -1, :]  # Take the output of the last time step\n",
    "        x = self.fc(x)\n",
    "        return x\n",
    "\n",
    "hidden_dim = 128  # Number of features in the hidden state of the LSTM\n",
    "num_layers = 2    # Number of stacked LSTM layers\n",
    "num_classes = 3   # Number of output classes\n",
    "\n",
    "model = LSTMClassifier(embedding_matrix, hidden_dim, num_layers, num_classes)\n"
   ]
  },
  {
   "cell_type": "code",
   "execution_count": 152,
   "metadata": {},
   "outputs": [
    {
     "name": "stdout",
     "output_type": "stream",
     "text": [
      "Epoch 1, Loss: 1.1021785020828248\n",
      "Epoch 1, F1 Score: 0.84\n",
      "Epoch 2, Loss: 1.100984016060829\n",
      "Epoch 2, F1 Score: 0.84\n",
      "Epoch 3, Loss: 1.0996624261140824\n",
      "Epoch 3, F1 Score: 0.84\n",
      "Epoch 4, Loss: 1.1000380247831345\n",
      "Epoch 4, F1 Score: 0.84\n",
      "Epoch 5, Loss: 1.0996547788381577\n",
      "Epoch 5, F1 Score: 0.84\n",
      "Epoch 6, Loss: 1.0985936403274537\n",
      "Epoch 6, F1 Score: 0.00\n",
      "Epoch 7, Loss: 1.0998424232006072\n",
      "Epoch 7, F1 Score: 0.02\n",
      "Epoch 8, Loss: 1.0991476953029633\n",
      "Epoch 8, F1 Score: 0.02\n",
      "Epoch 9, Loss: 1.0994437873363494\n",
      "Epoch 9, F1 Score: 0.02\n",
      "Epoch 10, Loss: 1.0989287823438645\n",
      "Epoch 10, F1 Score: 0.00\n"
     ]
    }
   ],
   "source": [
    "from sklearn.metrics import f1_score\n",
    "import numpy as np\n",
    "\n",
    "criterion = nn.CrossEntropyLoss()\n",
    "optimizer = optim.Adam(model.parameters(), lr=0.001)\n",
    "\n",
    "num_epochs = 10\n",
    "for epoch in range(num_epochs):\n",
    "    model.train()  # Set the model to training mode\n",
    "    total_loss = 0\n",
    "\n",
    "    for inputs, targets in train_loader:\n",
    "        # Zero the parameter gradients\n",
    "        optimizer.zero_grad()\n",
    "\n",
    "        # Forward pass\n",
    "        outputs = model(inputs)\n",
    "        loss = criterion(outputs, targets)\n",
    "\n",
    "        # Backward pass and optimize\n",
    "        loss.backward()\n",
    "        optimizer.step()\n",
    "\n",
    "        total_loss += loss.item()\n",
    "\n",
    "    print(f'Epoch {epoch+1}, Loss: {total_loss/len(train_loader)}')\n",
    "\n",
    "    # Validation\n",
    "    model.eval()  # Set the model to evaluation mode\n",
    "    all_predictions = []\n",
    "    all_targets = []\n",
    "\n",
    "    with torch.no_grad():\n",
    "        for inputs, targets in test_loader:\n",
    "            outputs = model(inputs)\n",
    "            _, predicted = torch.max(outputs.data, 1)\n",
    "\n",
    "            # Collect all predictions and targets\n",
    "            all_predictions.extend(predicted.cpu().numpy())\n",
    "            all_targets.extend(targets.cpu().numpy())\n",
    "\n",
    "    # Calculate F1 score\n",
    "    f1 = f1_score(all_targets, all_predictions, average='weighted')\n",
    "    print(f'Epoch {epoch+1}, F1 Score: {f1:.2f}')"
   ]
  },
  {
   "cell_type": "code",
   "execution_count": 154,
   "metadata": {},
   "outputs": [
    {
     "name": "stdout",
     "output_type": "stream",
     "text": [
      "Help on package hopsworks:\n",
      "\n",
      "NAME\n",
      "    hopsworks\n",
      "\n",
      "DESCRIPTION\n",
      "    #   Copyright 2022 Logical Clocks AB\n",
      "    #\n",
      "    #   Licensed under the Apache License, Version 2.0 (the \"License\");\n",
      "    #   you may not use this file except in compliance with the License.\n",
      "    #   You may obtain a copy of the License at\n",
      "    #\n",
      "    #       http://www.apache.org/licenses/LICENSE-2.0\n",
      "    #\n",
      "    #   Unless required by applicable law or agreed to in writing, software\n",
      "    #   distributed under the License is distributed on an \"AS IS\" BASIS,\n",
      "    #   WITHOUT WARRANTIES OR CONDITIONS OF ANY KIND, either express or implied.\n",
      "    #   See the License for the specific language governing permissions and\n",
      "    #   limitations under the License.\n",
      "    #\n",
      "\n",
      "PACKAGE CONTENTS\n",
      "    client (package)\n",
      "    command\n",
      "    connection\n",
      "    constants\n",
      "    core (package)\n",
      "    decorators\n",
      "    engine (package)\n",
      "    environment\n",
      "    execution\n",
      "    flink_cluster\n",
      "    git_commit\n",
      "    git_file_status\n",
      "    git_op_execution\n",
      "    git_provider\n",
      "    git_remote\n",
      "    git_repo\n",
      "    job\n",
      "    job_schedule\n",
      "    kafka_schema\n",
      "    kafka_topic\n",
      "    library\n",
      "    project\n",
      "    secret\n",
      "    user\n",
      "    util\n",
      "    version\n",
      "\n",
      "FUNCTIONS\n",
      "    connection(host: str = None, port: int = 443, project: str = None, hostname_verification: bool = True, trust_store_path: str = None, cert_folder: str = '/tmp', api_key_file: str = None, api_key_value: str = None) method of builtins.type instance\n",
      "        Connection factory method, accessible through `hopsworks.connection()`.\n",
      "\n",
      "DATA\n",
      "    __all__ = ['connection']\n",
      "\n",
      "VERSION\n",
      "    3.4.3\n",
      "\n",
      "FILE\n",
      "    /Users/jayden/Documents/GitHub/Exchange/id2223/finalproject/venv1/lib/python3.11/site-packages/hopsworks/__init__.py\n",
      "\n",
      "\n"
     ]
    }
   ],
   "source": [
    "help(hopsworks)"
   ]
  },
  {
   "cell_type": "code",
   "execution_count": null,
   "metadata": {},
   "outputs": [],
   "source": []
  }
 ],
 "metadata": {
  "kernelspec": {
   "display_name": "venv1",
   "language": "python",
   "name": "python3"
  },
  "language_info": {
   "codemirror_mode": {
    "name": "ipython",
    "version": 3
   },
   "file_extension": ".py",
   "mimetype": "text/x-python",
   "name": "python",
   "nbconvert_exporter": "python",
   "pygments_lexer": "ipython3",
   "version": "3.11.5"
  },
  "orig_nbformat": 4
 },
 "nbformat": 4,
 "nbformat_minor": 2
}
